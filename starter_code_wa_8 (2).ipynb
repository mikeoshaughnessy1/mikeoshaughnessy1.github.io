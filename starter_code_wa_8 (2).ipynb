{
 "cells": [
  {
   "cell_type": "code",
   "execution_count": 41,
   "metadata": {},
   "outputs": [],
   "source": [
    "import csv\n",
    "\n",
    "def make_data_point(line, header):\n",
    "    output = {}\n",
    "    for index, header_item in enumerate(header):\n",
    "        output[header_item] = line[index]\n",
    "    return output\n",
    "\n",
    "with open(\"denver-1.nov.csv\") as inf:\n",
    "    reader = csv.reader(inf)\n",
    "    header = next(reader)\n",
    "    all_data = []\n",
    "    for line in reader:\n",
    "        all_data.append(make_data_point(line, header))\n",
    "    "
   ]
  },
  {
   "cell_type": "code",
   "execution_count": 42,
   "metadata": {},
   "outputs": [
    {
     "name": "stdout",
     "output_type": "stream",
     "text": [
      "{'raw_row_number': '1', 'date': '2012-11-13', 'time': '00:02:22', 'location': '8500 W CRESTLINE AVE', 'lat': '39.618329', 'lng': '-105.092691', 'district': '4', 'precinct': '423', 'type': 'vehicular', 'disposition': 'K - Street Check Completed', 'arrest_made': 'FALSE', 'citation_issued': 'FALSE', 'warning_issued': 'FALSE', 'outcome': 'NA'}\n"
     ]
    }
   ],
   "source": [
    "from collections import defaultdict\n",
    "\n",
    "\n",
    "bytype = defaultdict(list)  \n",
    "for line in all_data:\n",
    "    bytype[line[\"type\"]].append(line)\n",
    "    \n",
    "    \n",
    "print ((all_data[0]))    \n",
    "#print (type(all_data[0]))"
   ]
  },
  {
   "cell_type": "code",
   "execution_count": 43,
   "metadata": {},
   "outputs": [
    {
     "name": "stdout",
     "output_type": "stream",
     "text": [
      "<class 'str'>\n"
     ]
    }
   ],
   "source": [
    "print (type(all_data[0]['type']))"
   ]
  },
  {
   "cell_type": "code",
   "execution_count": 44,
   "metadata": {},
   "outputs": [],
   "source": [
    "from collections import defaultdict\n",
    "\n",
    "\n",
    "bytype = defaultdict(list)  \n",
    "for line in all_data:\n",
    "    bytype[line[\"type\"]].append(line)"
   ]
  },
  {
   "cell_type": "code",
   "execution_count": 45,
   "metadata": {},
   "outputs": [
    {
     "name": "stdout",
     "output_type": "stream",
     "text": [
      "{'pedestrian': 17.56120527306968,\n",
      " 'vehicular': 14.430558830464513}\n"
     ]
    }
   ],
   "source": [
    "\n",
    "import pprint as pprint\n",
    "\n",
    "# percentage chance to be arrested if stopped either vehicularly or as a pedestrian.\n",
    "prob_arrests = {}\n",
    "for i in bytype:\n",
    "    total = 0\n",
    "    arrests = 0\n",
    "    for report in bytype[i]:\n",
    "        if report['arrest_made'] == 'TRUE':\n",
    "            arrests += 1\n",
    "        total +=1\n",
    "    prob_arrests[i] = arrests / max(total, 1) * 100\n",
    "    \n",
    "pp = pprint.PrettyPrinter(width=41, compact=True)\n",
    "pp.pprint(prob_arrests)"
   ]
  },
  {
   "cell_type": "code",
   "execution_count": 47,
   "metadata": {},
   "outputs": [
    {
     "name": "stdout",
     "output_type": "stream",
     "text": [
      "{'pedestrian': 373, 'vehicular': 612}\n"
     ]
    }
   ],
   "source": [
    "# in this block we look at the totals for all vehicular and pedestrian police interactions\n",
    "\n",
    "import pprint as pprint\n",
    "\n",
    "# percentage chance to be arrested if stopped either vehicularly or as a pedestrian.\n",
    "prob_arrests = {}\n",
    "for i in bytype:\n",
    "    total = 0\n",
    "    arrests = 0\n",
    "    for report in bytype[i]:\n",
    "        if report['arrest_made'] == 'TRUE':\n",
    "            arrests += 1\n",
    "        total +=1\n",
    "    prob_arrests[i] = arrests #/ max(total, 1) * 100\n",
    "    \n",
    "pp = pprint.PrettyPrinter(width=41, compact=True)\n",
    "pp.pprint(prob_arrests)"
   ]
  },
  {
   "cell_type": "code",
   "execution_count": 46,
   "metadata": {},
   "outputs": [],
   "source": [
    "\n",
    "import json\n",
    "\n",
    "# saving the data to json\n",
    "with open('data.json', 'w') as outfile:\n",
    "    json.dump(prob_arrests, outfile)"
   ]
  },
  {
   "cell_type": "code",
   "execution_count": null,
   "metadata": {},
   "outputs": [],
   "source": []
  }
 ],
 "metadata": {
  "kernelspec": {
   "display_name": "Python 3",
   "language": "python",
   "name": "python3"
  },
  "language_info": {
   "codemirror_mode": {
    "name": "ipython",
    "version": 3
   },
   "file_extension": ".py",
   "mimetype": "text/x-python",
   "name": "python",
   "nbconvert_exporter": "python",
   "pygments_lexer": "ipython3",
   "version": "3.8.5"
  }
 },
 "nbformat": 4,
 "nbformat_minor": 4
}
